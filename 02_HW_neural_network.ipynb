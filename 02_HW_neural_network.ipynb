{
  "nbformat": 4,
  "nbformat_minor": 0,
  "metadata": {
    "colab": {
      "provenance": []
    },
    "kernelspec": {
      "name": "python3",
      "display_name": "Python 3"
    },
    "language_info": {
      "name": "python"
    }
  },
  "cells": [
    {
      "cell_type": "code",
      "source": [
        "import torch"
      ],
      "metadata": {
        "id": "pgrdJ1tvB8GM"
      },
      "execution_count": 7,
      "outputs": []
    },
    {
      "cell_type": "markdown",
      "source": [
        "### 3.\n",
        "Hàm softmax dùng exponential function (e) mà không phải số khác như 2, 3 hoặc 4:\n",
        "do e là cơ số tự nhiên được sử dụng phổ biến, $e^x$ đạo hàm được và có đạo hàm đẹp hơn các số tự nhiên ($=e^x$)"
      ],
      "metadata": {
        "id": "3R8HiJ6WTPrK"
      }
    },
    {
      "cell_type": "markdown",
      "source": [
        "### 1.\n",
        "Cho bài toán XOR,\n",
        "\n",
        "Implement thuật toán neural network để giải bài toán\n"
      ],
      "metadata": {
        "id": "6cI3hJXTCl_t"
      }
    },
    {
      "cell_type": "code",
      "metadata": {
        "id": "DgpTS2rzjCS6"
      },
      "source": [
        "import torch.nn as nn\n",
        "from torch.autograd import Variable"
      ],
      "execution_count": 8,
      "outputs": []
    },
    {
      "cell_type": "code",
      "metadata": {
        "id": "CXEXUNbYjKdi"
      },
      "source": [
        "# create data\n",
        "X = torch.Tensor([[0., 0.],\n",
        "               [0., 1.],\n",
        "               [1., 0.],\n",
        "               [1., 1.]])\n",
        "\n",
        "y = torch.Tensor([0., 1., 1., 0.]).reshape(X.shape[0], 1)"
      ],
      "execution_count": 9,
      "outputs": []
    },
    {
      "cell_type": "code",
      "metadata": {
        "id": "Xj9aWn_7jMCv"
      },
      "source": [
        "class XOR(nn.Module):\n",
        "    def __init__(self):\n",
        "        super(XOR, self).__init__()\n",
        "        self.linear = nn.Linear(2, 2)\n",
        "        self.Sigmoid = nn.Sigmoid()\n",
        "        self.linear2 = nn.Linear(2, 1)\n",
        "\n",
        "    def forward(self, input):\n",
        "      x = self.linear(input)\n",
        "      sig = self.Sigmoid(x)\n",
        "      yh = self.linear2(sig)\n",
        "      return yh"
      ],
      "execution_count": 10,
      "outputs": []
    },
    {
      "cell_type": "code",
      "metadata": {
        "id": "3f1Xs2TcjOCI"
      },
      "source": [
        "xor_network = XOR()"
      ],
      "execution_count": 11,
      "outputs": []
    },
    {
      "cell_type": "code",
      "metadata": {
        "id": "82Adr85ZjQ17"
      },
      "source": [
        "epochs = 1000\n",
        "mseloss = nn.MSELoss()\n",
        "optimizer = torch.optim.Adam(xor_network.parameters(), lr = 0.03)\n",
        "all_losses = []\n",
        "current_loss = 0\n",
        "plot_every = 50\n",
        "\n",
        "# train\n",
        "\n",
        "for epoch in range(epochs):\n",
        "  yhat = xor_network.forward(X)\n",
        "  loss = mseloss(yhat, y)\n",
        "\n",
        "  loss.backward()\n",
        "\n",
        "  optimizer.step()\n",
        "\n",
        "  optimizer.zero_grad()\n",
        "\n",
        "  current_loss += loss\n",
        "  if epoch % plot_every == 0:\n",
        "      all_losses.append(current_loss / plot_every)\n",
        "      current_loss = 0\n"
      ],
      "execution_count": 12,
      "outputs": []
    },
    {
      "cell_type": "code",
      "metadata": {
        "colab": {
          "base_uri": "https://localhost:8080/"
        },
        "id": "qHRQVH_6jUWd",
        "outputId": "45e66d51-2850-41d6-9530-df35658c7150"
      },
      "source": [
        "# show weights and bias\n",
        "for name, param in xor_network.named_parameters():\n",
        "    if param.requires_grad:\n",
        "        print(name, param.data)"
      ],
      "execution_count": 13,
      "outputs": [
        {
          "output_type": "stream",
          "name": "stdout",
          "text": [
            "linear.weight tensor([[-7.0018,  1.4256],\n",
            "        [ 7.6912,  4.8053]])\n",
            "linear.bias tensor([-1.2641, -0.6895])\n",
            "linear2.weight tensor([[0.9522, 1.0639]])\n",
            "linear2.bias tensor([-0.5636])\n"
          ]
        }
      ]
    },
    {
      "cell_type": "code",
      "metadata": {
        "colab": {
          "base_uri": "https://localhost:8080/"
        },
        "id": "RB_Y0q_VjWAP",
        "outputId": "c1f7032b-646e-4be0-b468-4fcd38129c9a"
      },
      "source": [
        "# test input\n",
        "input = torch.tensor([1., 1.])\n",
        "out = xor_network(input)\n",
        "print(out.round())\n",
        "\n",
        "input = torch.tensor([0., 0.])\n",
        "out = xor_network(input)\n",
        "print(out.round())"
      ],
      "execution_count": 14,
      "outputs": [
        {
          "output_type": "stream",
          "name": "stdout",
          "text": [
            "tensor([1.], grad_fn=<RoundBackward0>)\n",
            "tensor([0.], grad_fn=<RoundBackward0>)\n"
          ]
        }
      ]
    },
    {
      "cell_type": "markdown",
      "source": [
        "### 2. Dataset MNIST\n",
        "- Implement thuật toán neural network với dữ liệu trên sử dụng Pytorch\n",
        "- Chỉnh learning rate, vẽ đồ thị loss tương ứng.\n",
        "- Chia tập train/test tỉ lệ 80/20 (MNIST chia sẵn train test?), tính các chỉ số accuracy, recall, f1-score trên tập test."
      ],
      "metadata": {
        "id": "36SJ_KPmWrHv"
      }
    },
    {
      "cell_type": "code",
      "source": [
        "import torchvision.datasets as datasets\n",
        "import torchvision"
      ],
      "metadata": {
        "id": "8VKpZpaTWrp0"
      },
      "execution_count": 46,
      "outputs": []
    },
    {
      "cell_type": "code",
      "source": [
        "batch_size_train = 64\n",
        "batch_size_test = 1000"
      ],
      "metadata": {
        "id": "E8iWuiexbDpN"
      },
      "execution_count": 47,
      "outputs": []
    },
    {
      "cell_type": "code",
      "source": [
        "path = '/content/drive/MyDrive/23-24-01-last-semester/deep-learning-in-fault-detection/Data'\n",
        "mnist_trainset = datasets.MNIST(root=path, train=True, download=True, transform=torchvision.transforms.Compose([\n",
        "                               torchvision.transforms.ToTensor(),\n",
        "                               torchvision.transforms.Normalize(\n",
        "                                 (0.1307,), (0.3081,))\n",
        "                             ]))\n",
        "train = torch.utils.data.DataLoader(mnist_trainset, batch_size=batch_size_train, shuffle=True)\n",
        "\n",
        "mnist_testset = datasets.MNIST(root=path, train=False, download=True, transform=torchvision.transforms.Compose([\n",
        "                               torchvision.transforms.ToTensor(),\n",
        "                               torchvision.transforms.Normalize(\n",
        "                                 (0.1307,), (0.3081,))\n",
        "                             ]))\n",
        "test = torch.utils.data.DataLoader(mnist_testset, batch_size=batch_size_test, shuffle=True)"
      ],
      "metadata": {
        "id": "fy4wN0Q0JrHz"
      },
      "execution_count": 48,
      "outputs": []
    },
    {
      "cell_type": "code",
      "source": [
        "\n",
        "mnist_trainset"
      ],
      "metadata": {
        "colab": {
          "base_uri": "https://localhost:8080/"
        },
        "id": "pdJITizSKKxa",
        "outputId": "af9485df-f04a-474d-d0c5-c52f3b9a4985"
      },
      "execution_count": 49,
      "outputs": [
        {
          "output_type": "execute_result",
          "data": {
            "text/plain": [
              "Dataset MNIST\n",
              "    Number of datapoints: 60000\n",
              "    Root location: /content/drive/MyDrive/23-24-01-last-semester/deep-learning-in-fault-detection/Data\n",
              "    Split: Train\n",
              "    StandardTransform\n",
              "Transform: Compose(\n",
              "               ToTensor()\n",
              "               Normalize(mean=(0.1307,), std=(0.3081,))\n",
              "           )"
            ]
          },
          "metadata": {},
          "execution_count": 49
        }
      ]
    },
    {
      "cell_type": "code",
      "source": [
        "import torch.nn as nn\n",
        "import torch.nn.functional as F\n",
        "import torch.optim as optim"
      ],
      "metadata": {
        "id": "2CtpvCGhKal8"
      },
      "execution_count": 50,
      "outputs": []
    },
    {
      "cell_type": "code",
      "source": [
        "class Net(nn.Module):\n",
        "    def __init__(self):\n",
        "        super(Net, self).__init__()\n",
        "        self.conv1 = nn.Conv2d(1, 10, kernel_size=5)\n",
        "        self.conv2 = nn.Conv2d(10, 20, kernel_size=5)\n",
        "        self.conv2_drop = nn.Dropout2d()\n",
        "        self.fc1 = nn.Linear(320, 50)\n",
        "        self.fc2 = nn.Linear(50, 10)\n",
        "\n",
        "    def forward(self, x):\n",
        "        x = F.relu(F.max_pool2d(self.conv1(x), 2))\n",
        "        x = F.relu(F.max_pool2d(self.conv2_drop(self.conv2(x)), 2))\n",
        "        x = x.view(-1, 320)\n",
        "        x = F.relu(self.fc1(x))\n",
        "        x = F.dropout(x, training=self.training)\n",
        "        x = self.fc2(x)\n",
        "        return F.log_softmax(x)"
      ],
      "metadata": {
        "id": "P1UzxX7BTF-7"
      },
      "execution_count": 51,
      "outputs": []
    },
    {
      "cell_type": "code",
      "source": [
        "network = Net()\n",
        "\n",
        "n_epochs = 3\n",
        "\n",
        "learning_rate = 0.01\n",
        "momentum = 0.5\n",
        "log_interval = 10\n",
        "\n",
        "random_seed = 1\n",
        "torch.backends.cudnn.enabled = False\n",
        "torch.manual_seed(random_seed)\n",
        "optimizer = optim.SGD(network.parameters(), lr=learning_rate,\n",
        "                      momentum=momentum)"
      ],
      "metadata": {
        "id": "3BUv_ijjTRL8"
      },
      "execution_count": 52,
      "outputs": []
    },
    {
      "cell_type": "code",
      "source": [
        "train_losses = []\n",
        "train_counter = []\n",
        "test_losses = []\n",
        "test_counter = [i*len(train.dataset) for i in range(n_epochs + 1)]"
      ],
      "metadata": {
        "id": "6-rfedi1TetS"
      },
      "execution_count": 60,
      "outputs": []
    },
    {
      "cell_type": "code",
      "source": [
        "def train_f(epoch):\n",
        "  network.train()\n",
        "  for batch_idx, (data, target) in enumerate(train):\n",
        "    optimizer.zero_grad()\n",
        "    output = network(data)\n",
        "    loss = F.nll_loss(output, target)\n",
        "    loss.backward()\n",
        "    optimizer.step()\n",
        "    if batch_idx % log_interval == 0:\n",
        "      print('Train Epoch: {} [{}/{} ({:.0f}%)]\\tLoss: {:.6f}'.format(\n",
        "        epoch, batch_idx * len(data), len(train.dataset),\n",
        "        100. * batch_idx / len(train), loss.item()))\n",
        "      train_losses.append(loss.item())\n",
        "      train_counter.append(\n",
        "        (batch_idx*64) + ((epoch-1)*len(train.dataset)))\n"
      ],
      "metadata": {
        "id": "tVCXW5nGUPZc"
      },
      "execution_count": 57,
      "outputs": []
    },
    {
      "cell_type": "code",
      "source": [
        "def test_f():\n",
        "  network.eval()\n",
        "  test_loss = 0\n",
        "  correct = 0\n",
        "  with torch.no_grad():\n",
        "    for data, target in test:\n",
        "      output = network(data)\n",
        "      test_loss += F.nll_loss(output, target, size_average=False).item()\n",
        "      pred = output.data.max(1, keepdim=True)[1]\n",
        "      correct += pred.eq(target.data.view_as(pred)).sum()\n",
        "  test_loss /= len(test.dataset)\n",
        "  test_losses.append(test_loss)\n",
        "  print('\\nTest set: Avg. loss: {:.4f}, Accuracy: {}/{} ({:.0f}%)\\n'.format(\n",
        "    test_loss, correct, len(test.dataset),\n",
        "    100. * correct / len(test.dataset)))"
      ],
      "metadata": {
        "id": "JdIpKhw-ZuZC"
      },
      "execution_count": 55,
      "outputs": []
    },
    {
      "cell_type": "code",
      "source": [
        "test_f()\n",
        "for epoch in range(1, n_epochs + 1):\n",
        "  train_f(epoch)\n",
        "  test_f()"
      ],
      "metadata": {
        "colab": {
          "base_uri": "https://localhost:8080/"
        },
        "id": "twCvQ_R2aJ6J",
        "outputId": "7a7bb0d1-3fa9-43ab-ddbb-8c830c5fae5e"
      },
      "execution_count": 58,
      "outputs": [
        {
          "output_type": "stream",
          "name": "stderr",
          "text": [
            "<ipython-input-51-6c2218f37724>:17: UserWarning: Implicit dimension choice for log_softmax has been deprecated. Change the call to include dim=X as an argument.\n",
            "  return F.log_softmax(x)\n"
          ]
        },
        {
          "output_type": "stream",
          "name": "stdout",
          "text": [
            "\n",
            "Test set: Avg. loss: 2.3293, Accuracy: 1137/10000 (11%)\n",
            "\n",
            "Train Epoch: 1 [0/60000 (0%)]\tLoss: 2.389119\n",
            "Train Epoch: 1 [640/60000 (1%)]\tLoss: 2.300278\n",
            "Train Epoch: 1 [1280/60000 (2%)]\tLoss: 2.279443\n",
            "Train Epoch: 1 [1920/60000 (3%)]\tLoss: 2.249715\n",
            "Train Epoch: 1 [2560/60000 (4%)]\tLoss: 2.264347\n",
            "Train Epoch: 1 [3200/60000 (5%)]\tLoss: 2.220769\n",
            "Train Epoch: 1 [3840/60000 (6%)]\tLoss: 2.245453\n",
            "Train Epoch: 1 [4480/60000 (7%)]\tLoss: 2.119972\n",
            "Train Epoch: 1 [5120/60000 (9%)]\tLoss: 2.059029\n",
            "Train Epoch: 1 [5760/60000 (10%)]\tLoss: 2.065121\n",
            "Train Epoch: 1 [6400/60000 (11%)]\tLoss: 2.043583\n",
            "Train Epoch: 1 [7040/60000 (12%)]\tLoss: 1.911955\n",
            "Train Epoch: 1 [7680/60000 (13%)]\tLoss: 1.743253\n",
            "Train Epoch: 1 [8320/60000 (14%)]\tLoss: 1.801963\n",
            "Train Epoch: 1 [8960/60000 (15%)]\tLoss: 1.534840\n",
            "Train Epoch: 1 [9600/60000 (16%)]\tLoss: 1.525995\n",
            "Train Epoch: 1 [10240/60000 (17%)]\tLoss: 1.412307\n",
            "Train Epoch: 1 [10880/60000 (18%)]\tLoss: 1.361782\n",
            "Train Epoch: 1 [11520/60000 (19%)]\tLoss: 1.306677\n",
            "Train Epoch: 1 [12160/60000 (20%)]\tLoss: 1.250234\n",
            "Train Epoch: 1 [12800/60000 (21%)]\tLoss: 1.191486\n",
            "Train Epoch: 1 [13440/60000 (22%)]\tLoss: 1.051138\n",
            "Train Epoch: 1 [14080/60000 (23%)]\tLoss: 1.045468\n",
            "Train Epoch: 1 [14720/60000 (25%)]\tLoss: 1.035785\n",
            "Train Epoch: 1 [15360/60000 (26%)]\tLoss: 0.942373\n",
            "Train Epoch: 1 [16000/60000 (27%)]\tLoss: 0.920642\n",
            "Train Epoch: 1 [16640/60000 (28%)]\tLoss: 1.133771\n",
            "Train Epoch: 1 [17280/60000 (29%)]\tLoss: 0.852361\n",
            "Train Epoch: 1 [17920/60000 (30%)]\tLoss: 1.001227\n",
            "Train Epoch: 1 [18560/60000 (31%)]\tLoss: 0.805797\n",
            "Train Epoch: 1 [19200/60000 (32%)]\tLoss: 0.788214\n",
            "Train Epoch: 1 [19840/60000 (33%)]\tLoss: 0.888496\n",
            "Train Epoch: 1 [20480/60000 (34%)]\tLoss: 0.890450\n",
            "Train Epoch: 1 [21120/60000 (35%)]\tLoss: 0.955664\n",
            "Train Epoch: 1 [21760/60000 (36%)]\tLoss: 1.025410\n",
            "Train Epoch: 1 [22400/60000 (37%)]\tLoss: 0.739444\n",
            "Train Epoch: 1 [23040/60000 (38%)]\tLoss: 0.792290\n",
            "Train Epoch: 1 [23680/60000 (39%)]\tLoss: 1.051958\n",
            "Train Epoch: 1 [24320/60000 (41%)]\tLoss: 0.586317\n",
            "Train Epoch: 1 [24960/60000 (42%)]\tLoss: 0.665786\n",
            "Train Epoch: 1 [25600/60000 (43%)]\tLoss: 1.129586\n",
            "Train Epoch: 1 [26240/60000 (44%)]\tLoss: 0.699506\n",
            "Train Epoch: 1 [26880/60000 (45%)]\tLoss: 0.725319\n",
            "Train Epoch: 1 [27520/60000 (46%)]\tLoss: 0.620611\n",
            "Train Epoch: 1 [28160/60000 (47%)]\tLoss: 0.787938\n",
            "Train Epoch: 1 [28800/60000 (48%)]\tLoss: 0.703907\n",
            "Train Epoch: 1 [29440/60000 (49%)]\tLoss: 0.727248\n",
            "Train Epoch: 1 [30080/60000 (50%)]\tLoss: 0.852894\n",
            "Train Epoch: 1 [30720/60000 (51%)]\tLoss: 0.650987\n",
            "Train Epoch: 1 [31360/60000 (52%)]\tLoss: 0.702975\n",
            "Train Epoch: 1 [32000/60000 (53%)]\tLoss: 0.770573\n",
            "Train Epoch: 1 [32640/60000 (54%)]\tLoss: 0.598609\n",
            "Train Epoch: 1 [33280/60000 (55%)]\tLoss: 0.510517\n",
            "Train Epoch: 1 [33920/60000 (57%)]\tLoss: 0.540567\n",
            "Train Epoch: 1 [34560/60000 (58%)]\tLoss: 0.581064\n",
            "Train Epoch: 1 [35200/60000 (59%)]\tLoss: 0.694940\n",
            "Train Epoch: 1 [35840/60000 (60%)]\tLoss: 0.528914\n",
            "Train Epoch: 1 [36480/60000 (61%)]\tLoss: 0.570004\n",
            "Train Epoch: 1 [37120/60000 (62%)]\tLoss: 0.551567\n",
            "Train Epoch: 1 [37760/60000 (63%)]\tLoss: 0.594506\n",
            "Train Epoch: 1 [38400/60000 (64%)]\tLoss: 0.413538\n",
            "Train Epoch: 1 [39040/60000 (65%)]\tLoss: 0.496814\n",
            "Train Epoch: 1 [39680/60000 (66%)]\tLoss: 0.848136\n",
            "Train Epoch: 1 [40320/60000 (67%)]\tLoss: 0.731079\n",
            "Train Epoch: 1 [40960/60000 (68%)]\tLoss: 0.627202\n",
            "Train Epoch: 1 [41600/60000 (69%)]\tLoss: 0.616219\n",
            "Train Epoch: 1 [42240/60000 (70%)]\tLoss: 0.342063\n",
            "Train Epoch: 1 [42880/60000 (71%)]\tLoss: 0.518463\n",
            "Train Epoch: 1 [43520/60000 (72%)]\tLoss: 0.687096\n",
            "Train Epoch: 1 [44160/60000 (74%)]\tLoss: 0.617094\n",
            "Train Epoch: 1 [44800/60000 (75%)]\tLoss: 0.533688\n",
            "Train Epoch: 1 [45440/60000 (76%)]\tLoss: 0.408739\n",
            "Train Epoch: 1 [46080/60000 (77%)]\tLoss: 0.500872\n",
            "Train Epoch: 1 [46720/60000 (78%)]\tLoss: 0.483738\n",
            "Train Epoch: 1 [47360/60000 (79%)]\tLoss: 0.551907\n",
            "Train Epoch: 1 [48000/60000 (80%)]\tLoss: 0.506815\n",
            "Train Epoch: 1 [48640/60000 (81%)]\tLoss: 0.386683\n",
            "Train Epoch: 1 [49280/60000 (82%)]\tLoss: 0.753519\n",
            "Train Epoch: 1 [49920/60000 (83%)]\tLoss: 0.646829\n",
            "Train Epoch: 1 [50560/60000 (84%)]\tLoss: 0.383415\n",
            "Train Epoch: 1 [51200/60000 (85%)]\tLoss: 0.615490\n",
            "Train Epoch: 1 [51840/60000 (86%)]\tLoss: 0.592338\n",
            "Train Epoch: 1 [52480/60000 (87%)]\tLoss: 0.277289\n",
            "Train Epoch: 1 [53120/60000 (88%)]\tLoss: 0.469377\n",
            "Train Epoch: 1 [53760/60000 (90%)]\tLoss: 0.573011\n",
            "Train Epoch: 1 [54400/60000 (91%)]\tLoss: 0.392373\n",
            "Train Epoch: 1 [55040/60000 (92%)]\tLoss: 0.317610\n",
            "Train Epoch: 1 [55680/60000 (93%)]\tLoss: 0.551335\n",
            "Train Epoch: 1 [56320/60000 (94%)]\tLoss: 0.443620\n",
            "Train Epoch: 1 [56960/60000 (95%)]\tLoss: 0.486028\n",
            "Train Epoch: 1 [57600/60000 (96%)]\tLoss: 0.470856\n",
            "Train Epoch: 1 [58240/60000 (97%)]\tLoss: 0.420667\n",
            "Train Epoch: 1 [58880/60000 (98%)]\tLoss: 0.727796\n",
            "Train Epoch: 1 [59520/60000 (99%)]\tLoss: 0.400623\n",
            "\n",
            "Test set: Avg. loss: 0.1956, Accuracy: 9420/10000 (94%)\n",
            "\n",
            "Train Epoch: 2 [0/60000 (0%)]\tLoss: 0.250935\n",
            "Train Epoch: 2 [640/60000 (1%)]\tLoss: 0.627868\n",
            "Train Epoch: 2 [1280/60000 (2%)]\tLoss: 0.457563\n",
            "Train Epoch: 2 [1920/60000 (3%)]\tLoss: 0.372135\n",
            "Train Epoch: 2 [2560/60000 (4%)]\tLoss: 0.645920\n",
            "Train Epoch: 2 [3200/60000 (5%)]\tLoss: 0.557202\n",
            "Train Epoch: 2 [3840/60000 (6%)]\tLoss: 0.470141\n",
            "Train Epoch: 2 [4480/60000 (7%)]\tLoss: 0.336839\n",
            "Train Epoch: 2 [5120/60000 (9%)]\tLoss: 0.767580\n",
            "Train Epoch: 2 [5760/60000 (10%)]\tLoss: 0.424657\n",
            "Train Epoch: 2 [6400/60000 (11%)]\tLoss: 0.388795\n",
            "Train Epoch: 2 [7040/60000 (12%)]\tLoss: 0.639980\n",
            "Train Epoch: 2 [7680/60000 (13%)]\tLoss: 0.676284\n",
            "Train Epoch: 2 [8320/60000 (14%)]\tLoss: 0.405287\n",
            "Train Epoch: 2 [8960/60000 (15%)]\tLoss: 0.527598\n",
            "Train Epoch: 2 [9600/60000 (16%)]\tLoss: 0.536515\n",
            "Train Epoch: 2 [10240/60000 (17%)]\tLoss: 0.349773\n",
            "Train Epoch: 2 [10880/60000 (18%)]\tLoss: 0.463770\n",
            "Train Epoch: 2 [11520/60000 (19%)]\tLoss: 0.257019\n",
            "Train Epoch: 2 [12160/60000 (20%)]\tLoss: 0.304837\n",
            "Train Epoch: 2 [12800/60000 (21%)]\tLoss: 0.507886\n",
            "Train Epoch: 2 [13440/60000 (22%)]\tLoss: 0.195223\n",
            "Train Epoch: 2 [14080/60000 (23%)]\tLoss: 0.686560\n",
            "Train Epoch: 2 [14720/60000 (25%)]\tLoss: 0.374737\n",
            "Train Epoch: 2 [15360/60000 (26%)]\tLoss: 0.410667\n",
            "Train Epoch: 2 [16000/60000 (27%)]\tLoss: 0.342569\n",
            "Train Epoch: 2 [16640/60000 (28%)]\tLoss: 0.437852\n",
            "Train Epoch: 2 [17280/60000 (29%)]\tLoss: 0.475405\n",
            "Train Epoch: 2 [17920/60000 (30%)]\tLoss: 0.539101\n",
            "Train Epoch: 2 [18560/60000 (31%)]\tLoss: 0.463271\n",
            "Train Epoch: 2 [19200/60000 (32%)]\tLoss: 0.288503\n",
            "Train Epoch: 2 [19840/60000 (33%)]\tLoss: 0.303021\n",
            "Train Epoch: 2 [20480/60000 (34%)]\tLoss: 0.456370\n",
            "Train Epoch: 2 [21120/60000 (35%)]\tLoss: 0.312394\n",
            "Train Epoch: 2 [21760/60000 (36%)]\tLoss: 0.265239\n",
            "Train Epoch: 2 [22400/60000 (37%)]\tLoss: 0.612833\n",
            "Train Epoch: 2 [23040/60000 (38%)]\tLoss: 0.373390\n",
            "Train Epoch: 2 [23680/60000 (39%)]\tLoss: 0.534009\n",
            "Train Epoch: 2 [24320/60000 (41%)]\tLoss: 0.171882\n",
            "Train Epoch: 2 [24960/60000 (42%)]\tLoss: 0.510726\n",
            "Train Epoch: 2 [25600/60000 (43%)]\tLoss: 0.357395\n",
            "Train Epoch: 2 [26240/60000 (44%)]\tLoss: 0.306000\n",
            "Train Epoch: 2 [26880/60000 (45%)]\tLoss: 0.553218\n",
            "Train Epoch: 2 [27520/60000 (46%)]\tLoss: 0.208758\n",
            "Train Epoch: 2 [28160/60000 (47%)]\tLoss: 0.560056\n",
            "Train Epoch: 2 [28800/60000 (48%)]\tLoss: 0.354020\n",
            "Train Epoch: 2 [29440/60000 (49%)]\tLoss: 0.216434\n",
            "Train Epoch: 2 [30080/60000 (50%)]\tLoss: 0.700669\n",
            "Train Epoch: 2 [30720/60000 (51%)]\tLoss: 0.312144\n",
            "Train Epoch: 2 [31360/60000 (52%)]\tLoss: 0.344050\n",
            "Train Epoch: 2 [32000/60000 (53%)]\tLoss: 0.466372\n",
            "Train Epoch: 2 [32640/60000 (54%)]\tLoss: 0.284285\n",
            "Train Epoch: 2 [33280/60000 (55%)]\tLoss: 0.388302\n",
            "Train Epoch: 2 [33920/60000 (57%)]\tLoss: 0.371012\n",
            "Train Epoch: 2 [34560/60000 (58%)]\tLoss: 0.230697\n",
            "Train Epoch: 2 [35200/60000 (59%)]\tLoss: 0.293209\n",
            "Train Epoch: 2 [35840/60000 (60%)]\tLoss: 0.220998\n",
            "Train Epoch: 2 [36480/60000 (61%)]\tLoss: 0.322076\n",
            "Train Epoch: 2 [37120/60000 (62%)]\tLoss: 0.178159\n",
            "Train Epoch: 2 [37760/60000 (63%)]\tLoss: 0.254222\n",
            "Train Epoch: 2 [38400/60000 (64%)]\tLoss: 0.531917\n",
            "Train Epoch: 2 [39040/60000 (65%)]\tLoss: 0.299689\n",
            "Train Epoch: 2 [39680/60000 (66%)]\tLoss: 0.432896\n",
            "Train Epoch: 2 [40320/60000 (67%)]\tLoss: 0.350148\n",
            "Train Epoch: 2 [40960/60000 (68%)]\tLoss: 0.355567\n",
            "Train Epoch: 2 [41600/60000 (69%)]\tLoss: 0.375183\n",
            "Train Epoch: 2 [42240/60000 (70%)]\tLoss: 0.301362\n",
            "Train Epoch: 2 [42880/60000 (71%)]\tLoss: 0.232815\n",
            "Train Epoch: 2 [43520/60000 (72%)]\tLoss: 0.319790\n",
            "Train Epoch: 2 [44160/60000 (74%)]\tLoss: 0.308063\n",
            "Train Epoch: 2 [44800/60000 (75%)]\tLoss: 0.295502\n",
            "Train Epoch: 2 [45440/60000 (76%)]\tLoss: 0.428935\n",
            "Train Epoch: 2 [46080/60000 (77%)]\tLoss: 0.487158\n",
            "Train Epoch: 2 [46720/60000 (78%)]\tLoss: 0.534869\n",
            "Train Epoch: 2 [47360/60000 (79%)]\tLoss: 0.378676\n",
            "Train Epoch: 2 [48000/60000 (80%)]\tLoss: 0.351526\n",
            "Train Epoch: 2 [48640/60000 (81%)]\tLoss: 0.220198\n",
            "Train Epoch: 2 [49280/60000 (82%)]\tLoss: 0.229098\n",
            "Train Epoch: 2 [49920/60000 (83%)]\tLoss: 0.378211\n",
            "Train Epoch: 2 [50560/60000 (84%)]\tLoss: 0.257022\n",
            "Train Epoch: 2 [51200/60000 (85%)]\tLoss: 0.375482\n",
            "Train Epoch: 2 [51840/60000 (86%)]\tLoss: 0.337265\n",
            "Train Epoch: 2 [52480/60000 (87%)]\tLoss: 0.500516\n",
            "Train Epoch: 2 [53120/60000 (88%)]\tLoss: 0.215688\n",
            "Train Epoch: 2 [53760/60000 (90%)]\tLoss: 0.287885\n",
            "Train Epoch: 2 [54400/60000 (91%)]\tLoss: 0.455367\n",
            "Train Epoch: 2 [55040/60000 (92%)]\tLoss: 0.356718\n",
            "Train Epoch: 2 [55680/60000 (93%)]\tLoss: 0.484085\n",
            "Train Epoch: 2 [56320/60000 (94%)]\tLoss: 0.355357\n",
            "Train Epoch: 2 [56960/60000 (95%)]\tLoss: 0.432483\n",
            "Train Epoch: 2 [57600/60000 (96%)]\tLoss: 0.285990\n",
            "Train Epoch: 2 [58240/60000 (97%)]\tLoss: 0.210073\n",
            "Train Epoch: 2 [58880/60000 (98%)]\tLoss: 0.495700\n",
            "Train Epoch: 2 [59520/60000 (99%)]\tLoss: 0.208572\n",
            "\n",
            "Test set: Avg. loss: 0.1218, Accuracy: 9640/10000 (96%)\n",
            "\n",
            "Train Epoch: 3 [0/60000 (0%)]\tLoss: 0.291239\n",
            "Train Epoch: 3 [640/60000 (1%)]\tLoss: 0.291289\n",
            "Train Epoch: 3 [1280/60000 (2%)]\tLoss: 0.346141\n",
            "Train Epoch: 3 [1920/60000 (3%)]\tLoss: 0.363555\n",
            "Train Epoch: 3 [2560/60000 (4%)]\tLoss: 0.262597\n",
            "Train Epoch: 3 [3200/60000 (5%)]\tLoss: 0.367968\n",
            "Train Epoch: 3 [3840/60000 (6%)]\tLoss: 0.428530\n",
            "Train Epoch: 3 [4480/60000 (7%)]\tLoss: 0.316041\n",
            "Train Epoch: 3 [5120/60000 (9%)]\tLoss: 0.186981\n",
            "Train Epoch: 3 [5760/60000 (10%)]\tLoss: 0.212086\n",
            "Train Epoch: 3 [6400/60000 (11%)]\tLoss: 0.231503\n",
            "Train Epoch: 3 [7040/60000 (12%)]\tLoss: 0.387408\n",
            "Train Epoch: 3 [7680/60000 (13%)]\tLoss: 0.363661\n",
            "Train Epoch: 3 [8320/60000 (14%)]\tLoss: 0.262391\n",
            "Train Epoch: 3 [8960/60000 (15%)]\tLoss: 0.427106\n",
            "Train Epoch: 3 [9600/60000 (16%)]\tLoss: 0.201696\n",
            "Train Epoch: 3 [10240/60000 (17%)]\tLoss: 0.254856\n",
            "Train Epoch: 3 [10880/60000 (18%)]\tLoss: 0.384131\n",
            "Train Epoch: 3 [11520/60000 (19%)]\tLoss: 0.340966\n",
            "Train Epoch: 3 [12160/60000 (20%)]\tLoss: 0.420157\n",
            "Train Epoch: 3 [12800/60000 (21%)]\tLoss: 0.190328\n",
            "Train Epoch: 3 [13440/60000 (22%)]\tLoss: 0.189657\n",
            "Train Epoch: 3 [14080/60000 (23%)]\tLoss: 0.332958\n",
            "Train Epoch: 3 [14720/60000 (25%)]\tLoss: 0.340731\n",
            "Train Epoch: 3 [15360/60000 (26%)]\tLoss: 0.386998\n",
            "Train Epoch: 3 [16000/60000 (27%)]\tLoss: 0.197355\n",
            "Train Epoch: 3 [16640/60000 (28%)]\tLoss: 0.276039\n",
            "Train Epoch: 3 [17280/60000 (29%)]\tLoss: 0.229678\n",
            "Train Epoch: 3 [17920/60000 (30%)]\tLoss: 0.107651\n",
            "Train Epoch: 3 [18560/60000 (31%)]\tLoss: 0.375480\n",
            "Train Epoch: 3 [19200/60000 (32%)]\tLoss: 0.205344\n",
            "Train Epoch: 3 [19840/60000 (33%)]\tLoss: 0.129647\n",
            "Train Epoch: 3 [20480/60000 (34%)]\tLoss: 0.282335\n",
            "Train Epoch: 3 [21120/60000 (35%)]\tLoss: 0.317669\n",
            "Train Epoch: 3 [21760/60000 (36%)]\tLoss: 0.482537\n",
            "Train Epoch: 3 [22400/60000 (37%)]\tLoss: 0.319526\n",
            "Train Epoch: 3 [23040/60000 (38%)]\tLoss: 0.497255\n",
            "Train Epoch: 3 [23680/60000 (39%)]\tLoss: 0.247016\n",
            "Train Epoch: 3 [24320/60000 (41%)]\tLoss: 0.465256\n",
            "Train Epoch: 3 [24960/60000 (42%)]\tLoss: 0.222481\n",
            "Train Epoch: 3 [25600/60000 (43%)]\tLoss: 0.320160\n",
            "Train Epoch: 3 [26240/60000 (44%)]\tLoss: 0.231655\n",
            "Train Epoch: 3 [26880/60000 (45%)]\tLoss: 0.191936\n",
            "Train Epoch: 3 [27520/60000 (46%)]\tLoss: 0.238649\n",
            "Train Epoch: 3 [28160/60000 (47%)]\tLoss: 0.271248\n",
            "Train Epoch: 3 [28800/60000 (48%)]\tLoss: 0.252231\n",
            "Train Epoch: 3 [29440/60000 (49%)]\tLoss: 0.299533\n",
            "Train Epoch: 3 [30080/60000 (50%)]\tLoss: 0.278004\n",
            "Train Epoch: 3 [30720/60000 (51%)]\tLoss: 0.217087\n",
            "Train Epoch: 3 [31360/60000 (52%)]\tLoss: 0.195239\n",
            "Train Epoch: 3 [32000/60000 (53%)]\tLoss: 0.213905\n",
            "Train Epoch: 3 [32640/60000 (54%)]\tLoss: 0.330013\n",
            "Train Epoch: 3 [33280/60000 (55%)]\tLoss: 0.207924\n",
            "Train Epoch: 3 [33920/60000 (57%)]\tLoss: 0.565866\n",
            "Train Epoch: 3 [34560/60000 (58%)]\tLoss: 0.224618\n",
            "Train Epoch: 3 [35200/60000 (59%)]\tLoss: 0.178605\n",
            "Train Epoch: 3 [35840/60000 (60%)]\tLoss: 0.582966\n",
            "Train Epoch: 3 [36480/60000 (61%)]\tLoss: 0.238185\n",
            "Train Epoch: 3 [37120/60000 (62%)]\tLoss: 0.423798\n",
            "Train Epoch: 3 [37760/60000 (63%)]\tLoss: 0.245258\n",
            "Train Epoch: 3 [38400/60000 (64%)]\tLoss: 0.326474\n",
            "Train Epoch: 3 [39040/60000 (65%)]\tLoss: 0.316646\n",
            "Train Epoch: 3 [39680/60000 (66%)]\tLoss: 0.273757\n",
            "Train Epoch: 3 [40320/60000 (67%)]\tLoss: 0.487440\n",
            "Train Epoch: 3 [40960/60000 (68%)]\tLoss: 0.196232\n",
            "Train Epoch: 3 [41600/60000 (69%)]\tLoss: 0.327705\n",
            "Train Epoch: 3 [42240/60000 (70%)]\tLoss: 0.192416\n",
            "Train Epoch: 3 [42880/60000 (71%)]\tLoss: 0.444851\n",
            "Train Epoch: 3 [43520/60000 (72%)]\tLoss: 0.184078\n",
            "Train Epoch: 3 [44160/60000 (74%)]\tLoss: 0.411356\n",
            "Train Epoch: 3 [44800/60000 (75%)]\tLoss: 0.420369\n",
            "Train Epoch: 3 [45440/60000 (76%)]\tLoss: 0.251327\n",
            "Train Epoch: 3 [46080/60000 (77%)]\tLoss: 0.159947\n",
            "Train Epoch: 3 [46720/60000 (78%)]\tLoss: 0.176935\n",
            "Train Epoch: 3 [47360/60000 (79%)]\tLoss: 0.220494\n",
            "Train Epoch: 3 [48000/60000 (80%)]\tLoss: 0.310371\n",
            "Train Epoch: 3 [48640/60000 (81%)]\tLoss: 0.308845\n",
            "Train Epoch: 3 [49280/60000 (82%)]\tLoss: 0.233102\n",
            "Train Epoch: 3 [49920/60000 (83%)]\tLoss: 0.289126\n",
            "Train Epoch: 3 [50560/60000 (84%)]\tLoss: 0.121508\n",
            "Train Epoch: 3 [51200/60000 (85%)]\tLoss: 0.221944\n",
            "Train Epoch: 3 [51840/60000 (86%)]\tLoss: 0.360182\n",
            "Train Epoch: 3 [52480/60000 (87%)]\tLoss: 0.201179\n",
            "Train Epoch: 3 [53120/60000 (88%)]\tLoss: 0.319586\n",
            "Train Epoch: 3 [53760/60000 (90%)]\tLoss: 0.280733\n",
            "Train Epoch: 3 [54400/60000 (91%)]\tLoss: 0.413324\n",
            "Train Epoch: 3 [55040/60000 (92%)]\tLoss: 0.261965\n",
            "Train Epoch: 3 [55680/60000 (93%)]\tLoss: 0.216103\n",
            "Train Epoch: 3 [56320/60000 (94%)]\tLoss: 0.392022\n",
            "Train Epoch: 3 [56960/60000 (95%)]\tLoss: 0.390823\n",
            "Train Epoch: 3 [57600/60000 (96%)]\tLoss: 0.268254\n",
            "Train Epoch: 3 [58240/60000 (97%)]\tLoss: 0.235381\n",
            "Train Epoch: 3 [58880/60000 (98%)]\tLoss: 0.235265\n",
            "Train Epoch: 3 [59520/60000 (99%)]\tLoss: 0.242931\n",
            "\n",
            "Test set: Avg. loss: 0.0998, Accuracy: 9695/10000 (97%)\n",
            "\n"
          ]
        }
      ]
    },
    {
      "cell_type": "code",
      "source": [
        "import matplotlib.pyplot as plt\n",
        "fig = plt.figure()\n",
        "plt.plot(train_counter, train_losses, color='blue')\n",
        "# plt.scatter(test_counter, test_losses, color='red')\n",
        "plt.legend(['Train Loss', 'Test Loss'], loc='upper right')\n",
        "plt.xlabel('number of training examples seen')\n",
        "plt.ylabel('negative log likelihood loss')\n",
        "fig\n"
      ],
      "metadata": {
        "colab": {
          "base_uri": "https://localhost:8080/",
          "height": 881
        },
        "id": "gkr9L4mQaZkr",
        "outputId": "7ad22b40-2dc8-4c73-b2b6-03548969fda7"
      },
      "execution_count": 62,
      "outputs": [
        {
          "output_type": "execute_result",
          "data": {
            "text/plain": [
              "<Figure size 640x480 with 1 Axes>"
            ],
            "image/png": "[encoded data removed]"
          },
          "metadata": {},
          "execution_count": 62
        },
        {
          "output_type": "display_data",
          "data": {
            "text/plain": [
              "<Figure size 640x480 with 1 Axes>"
            ],
            "image/png": "[encoded data removed]"
          },
          "metadata": {}
        }
      ]
    },
    {
      "cell_type": "code",
      "source": [],
      "metadata": {
        "id": "F_Vp9DmRexPG"
      },
      "execution_count": null,
      "outputs": []
    }
  ]
}